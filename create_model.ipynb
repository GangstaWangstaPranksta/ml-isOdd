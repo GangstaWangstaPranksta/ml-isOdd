{
  "cells": [
    {
      "cell_type": "code",
      "execution_count": 16,
      "metadata": {
        "id": "WZgN9iY4xL8X"
      },
      "outputs": [],
      "source": [
        "import matplotlib.pyplot as plt\n",
        "import pandas as pd\n",
        "import numpy as np\n",
        "from sklearn.model_selection import StratifiedShuffleSplit\n",
        "from IPython.display import clear_output\n",
        "\n",
        "import tensorflow as tf"
      ]
    },
    {
      "cell_type": "code",
      "execution_count": 17,
      "metadata": {
        "id": "mR4kPOx9o07-"
      },
      "outputs": [],
      "source": [
        "start = 0\n",
        "end = 100000\n",
        "\n",
        "range_values = np.arange(start, end)\n",
        "\n",
        "# Create the digit representation as a 2D array\n",
        "X = np.array([list(map(int, str(x).zfill(15))) for x in range_values])\n",
        "\n",
        "# Create the labels using vectorized operations\n",
        "y = np.column_stack((range_values % 2, (range_values + 1) % 2))\n",
        "\n",
        "# Split data up into training and validation data.\n",
        "split_train = StratifiedShuffleSplit(n_splits=3, test_size=0.4, train_size=0.6)\n",
        "for train_index, test_index in split_train.split(X, y):\n",
        "    X_val, X_train = X[test_index], X[train_index]\n",
        "    y_val, y_train = y[test_index], y[train_index]"
      ]
    },
    {
      "cell_type": "code",
      "execution_count": 32,
      "metadata": {
        "id": "5FwOeYCx2fso"
      },
      "outputs": [],
      "source": [
        "model = tf.keras.Sequential([\n",
        "    tf.keras.layers.Dense(50, activation='relu'),\n",
        "    tf.keras.layers.Dropout(0.2),\n",
        "    tf.keras.layers.Dense(70, activation='tanh'),\n",
        "    tf.keras.layers.Dropout(0.2),\n",
        "    tf.keras.layers.Dense(50, activation='sigmoid'),\n",
        "    tf.keras.layers.Dropout(0.2),\n",
        "    tf.keras.layers.Dense(2, activation='sigmoid')\n",
        "])"
      ]
    },
    {
      "cell_type": "code",
      "execution_count": 33,
      "metadata": {
        "id": "POpEUeZ621KX"
      },
      "outputs": [],
      "source": [
        "model.compile(optimizer=tf.keras.optimizers.Adam(),\n",
        "              loss=tf.keras.losses.BinaryCrossentropy(),\n",
        "              metrics=['accuracy'])"
      ]
    },
    {
      "cell_type": "code",
      "execution_count": 34,
      "metadata": {
        "id": "FOXvbfFp3Hed"
      },
      "outputs": [],
      "source": [
        "#model.evaluate(X_train, y_train)"
      ]
    },
    {
      "cell_type": "code",
      "execution_count": null,
      "metadata": {
        "id": "RVp_-yta3LmC"
      },
      "outputs": [],
      "source": [
        "#model.evaluate(X_val, y_val)"
      ]
    },
    {
      "cell_type": "code",
      "execution_count": null,
      "metadata": {
        "id": "ShF5dahG3lsR"
      },
      "outputs": [],
      "source": [
        "model.fit(X_train, y_train, batch_size=512, epochs=1000, validation_data=(X_val, y_val), verbose=0)"
      ]
    },
    {
      "cell_type": "code",
      "execution_count": null,
      "metadata": {
        "id": "ciNuaxYn4Nd3"
      },
      "outputs": [],
      "source": [
        "plt.style.use('dark_background')\n",
        "\n",
        "plt.plot(model.history.history['accuracy'])\n",
        "plt.plot(model.history.history['val_accuracy'])\n",
        "plt.title('model accuracy')\n",
        "plt.ylabel('accuracy')\n",
        "plt.xlabel('epoch')\n",
        "plt.legend(['train', 'val'], loc='upper left')\n",
        "plt.show()\n",
        "\n",
        "plt.plot(model.history.history['loss'])\n",
        "plt.plot(model.history.history['val_loss'])\n",
        "plt.title('model loss')\n",
        "plt.ylabel('loss')\n",
        "plt.xlabel('epoch')\n",
        "plt.legend(['train', 'val'], loc='upper left')\n",
        "plt.show()"
      ]
    },
    {
      "cell_type": "code",
      "execution_count": null,
      "metadata": {
        "id": "YsNMdf9kA9yc"
      },
      "outputs": [],
      "source": [
        "print(f\"maximum accurary of '{max(model.history.history['val_accuracy'])}' at epoch number {model.history.history['val_accuracy'].index(max(model.history.history['val_accuracy']))}\")\n",
        "print(f\"mimimum loss of '{min(model.history.history['val_loss'])}' at epoch number {model.history.history['val_loss'].index(min(model.history.history['val_loss']))}\")"
      ]
    },
    {
      "cell_type": "code",
      "execution_count": null,
      "metadata": {
        "id": "FR2FqCLlKdTO"
      },
      "outputs": [],
      "source": [
        "#model.save('model.keras')"
      ]
    },
    {
      "cell_type": "code",
      "execution_count": 12,
      "metadata": {
        "id": "n8dLYAQ8Lli3"
      },
      "outputs": [],
      "source": [
        "def num_to_nparray(num):\n",
        "    return np.array([list(map(int, str(num).zfill(15)))])"
      ]
    },
    {
      "cell_type": "code",
      "execution_count": null,
      "metadata": {
        "id": "8CRjoKtrLz8Q"
      },
      "outputs": [],
      "source": [
        "def predict_odd(num):\n",
        "    prediction = model.predict(num_to_nparray(num))\n",
        "    return prediction[0][0] > prediction[0][1]"
      ]
    },
    {
      "cell_type": "code",
      "execution_count": null,
      "metadata": {
        "id": "enBuFqNlWVsW"
      },
      "outputs": [],
      "source": [
        "#model.predict(num_to_nparray(32))"
      ]
    },
    {
      "cell_type": "code",
      "execution_count": null,
      "metadata": {
        "id": "1lClv8JkMEyE"
      },
      "outputs": [],
      "source": [
        "#predict_odd(33)"
      ]
    },
    {
      "cell_type": "code",
      "execution_count": 14,
      "metadata": {
        "id": "R3XkfZK6X_2I"
      },
      "outputs": [],
      "source": [
        "#import_model = tf.keras.models.load_model('model.keras')"
      ]
    },
    {
      "cell_type": "code",
      "execution_count": 15,
      "metadata": {
        "colab": {
          "base_uri": "https://localhost:8080/"
        },
        "id": "9jpsyX96YySJ",
        "outputId": "28700981-1980-4320-a824-0474ff84f17c"
      },
      "outputs": [
        {
          "output_type": "stream",
          "name": "stdout",
          "text": [
            "\u001b[1m1/1\u001b[0m \u001b[32m━━━━━━━━━━━━━━━━━━━━\u001b[0m\u001b[37m\u001b[0m \u001b[1m0s\u001b[0m 77ms/step\n"
          ]
        },
        {
          "output_type": "execute_result",
          "data": {
            "text/plain": [
              "array([[0.8536383 , 0.14635983]], dtype=float32)"
            ]
          },
          "metadata": {},
          "execution_count": 15
        }
      ],
      "source": [
        "#import_model.predict(num_to_nparray(100006))"
      ]
    },
    {
      "cell_type": "markdown",
      "metadata": {
        "id": "sMdDPgqlfwEZ"
      },
      "source": [
        "### Testing\n"
      ]
    },
    {
      "cell_type": "code",
      "source": [
        "model = tf.keras.models.load_model('model.keras')\n",
        "\n",
        "def num_to_nparray(num):\n",
        "    return np.array([list(map(int, str(num).zfill(15)))])\n",
        "\n",
        "def predict_odd(num):\n",
        "    prediction = model.predict(num_to_nparray(num), verbose=0)\n",
        "    return prediction[0][0] > prediction[0][1]\n",
        "\n",
        "for i in range(1_000_000_000_000_000):\n",
        "    # log every 1 million, clear every 50 million\n",
        "    if i%1_000_000 == 0:\n",
        "      print(f\"at number {i}\")\n",
        "    if i%50_000_000 == 0:\n",
        "      clear_output(wait=True)\n",
        "      print(f\"at number {i}\")\n",
        "\n",
        "    predict = predict_odd(i)\n",
        "    correct = bool(i%2)\n",
        "    if( predict != correct):\n",
        "        print(f\"error at number {i}, should be {correct}, predicted {predict}\")\n",
        "        break"
      ],
      "metadata": {
        "colab": {
          "base_uri": "https://localhost:8080/"
        },
        "id": "EJiCLaYuf0EZ",
        "outputId": "1fd80928-d7ce-4246-933e-f363bdff1e8d"
      },
      "execution_count": 10,
      "outputs": [
        {
          "output_type": "stream",
          "name": "stdout",
          "text": [
            "at number 0\n",
            "at number 0\n",
            "error at number 100006, should be False, predicted True\n"
          ]
        }
      ]
    }
  ],
  "metadata": {
    "accelerator": "GPU",
    "colab": {
      "gpuType": "T4",
      "provenance": []
    },
    "kernelspec": {
      "display_name": "Python 3",
      "name": "python3"
    },
    "language_info": {
      "name": "python"
    }
  },
  "nbformat": 4,
  "nbformat_minor": 0
}